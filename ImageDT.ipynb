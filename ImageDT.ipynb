{
 "cells": [
  {
   "cell_type": "markdown",
   "metadata": {},
   "source": [
    "### Import Libraries"
   ]
  },
  {
   "cell_type": "code",
   "execution_count": 1,
   "metadata": {},
   "outputs": [
    {
     "name": "stderr",
     "output_type": "stream",
     "text": [
      "Matplotlib is building the font cache; this may take a moment.\n",
      "2024-08-04 21:46:52.625680: I tensorflow/core/util/port.cc:113] oneDNN custom operations are on. You may see slightly different numerical results due to floating-point round-off errors from different computation orders. To turn them off, set the environment variable `TF_ENABLE_ONEDNN_OPTS=0`.\n",
      "2024-08-04 21:47:17.299681: I tensorflow/core/platform/cpu_feature_guard.cc:210] This TensorFlow binary is optimized to use available CPU instructions in performance-critical operations.\n",
      "To enable the following instructions: AVX2 AVX512F AVX512_VNNI AVX512_BF16 AVX512_FP16 AVX_VNNI AMX_TILE AMX_INT8 AMX_BF16 FMA, in other operations, rebuild TensorFlow with the appropriate compiler flags.\n",
      "2024-08-04 21:47:29.654774: W tensorflow/compiler/tf2tensorrt/utils/py_utils.cc:38] TF-TRT Warning: Could not find TensorRT\n"
     ]
    }
   ],
   "source": [
    "import numpy as np\n",
    "import pandas as pd\n",
    "import os\n",
    "import matplotlib.pyplot as plt\n",
    "import cv2\n",
    "from tqdm import tqdm\n",
    "import seaborn as sns\n",
    "from sklearn.model_selection import train_test_split\n",
    "from sklearn.metrics import confusion_matrix, classification_report\n",
    "from tensorflow.keras.models import Sequential\n",
    "from tensorflow.keras.layers import Input, Dense, Conv2D, MaxPooling2D, Flatten, Dropout\n",
    "from tensorflow.keras.preprocessing.image import ImageDataGenerator\n",
    "from tensorflow.keras.utils import to_categorical\n",
    "from tensorflow.keras.callbacks import EarlyStopping"
   ]
  },
  {
   "cell_type": "markdown",
   "metadata": {},
   "source": [
    "### Loading and Preprocessing data"
   ]
  },
  {
   "cell_type": "code",
   "execution_count": 2,
   "metadata": {},
   "outputs": [
    {
     "name": "stdout",
     "output_type": "stream",
     "text": [
      "Images shape: (17760, 224, 224, 3)\n",
      "Labels: [1 1 1 ... 0 0 0]\n"
     ]
    }
   ],
   "source": [
    "# Define the paths to the dataset folders\n",
    "data_path ='data'\n",
    "non_vehicle_folder = os.path.join(data_path, 'non-vehicles')\n",
    "vehicle_folder = os.path.join(data_path, 'vehicles')\n",
    "\n",
    "# Initialize lists to hold image data and labels\n",
    "images = []\n",
    "labels = []\n",
    "\n",
    "# Counters for labeling\n",
    "car_count = 0\n",
    "non_car_count = 0\n",
    "\n",
    "# Helper function to process images from a given folder\n",
    "def process_images_from_folder(folder_path, is_vehicle):\n",
    "    global car_count, non_car_count\n",
    "    for img_name in os.listdir(folder_path):\n",
    "        img_path = os.path.join(folder_path, img_name)\n",
    "        img = cv2.imread(img_path)\n",
    "        if img is None:\n",
    "            continue  # Skip if the image couldn't be read\n",
    "        \n",
    "        # Resize image to 224x224 pixels\n",
    "        img = cv2.resize(img, (224, 224))\n",
    "        images.append(img)\n",
    "        \n",
    "        # Assign labels based on whether it's a vehicle or non-vehicle\n",
    "        if is_vehicle:\n",
    "            label = 1  # Label for car\n",
    "            car_count += 1\n",
    "        else:\n",
    "            label = 0  # Label for non-car\n",
    "            non_car_count += 1\n",
    "        \n",
    "        labels.append(label)\n",
    "\n",
    "# Process images from both folders\n",
    "process_images_from_folder(vehicle_folder, is_vehicle=True)\n",
    "process_images_from_folder(non_vehicle_folder, is_vehicle=False)\n",
    "\n",
    "# Convert lists to numpy arrays\n",
    "images = np.array(images)\n",
    "labels = np.array(labels)\n",
    "\n",
    "print(\"Images shape:\", images.shape)\n",
    "print(\"Labels:\", labels)\n"
   ]
  },
  {
   "cell_type": "markdown",
   "metadata": {},
   "source": [
    "### Normalizing and Splitting data"
   ]
  },
  {
   "cell_type": "code",
   "execution_count": 3,
   "metadata": {},
   "outputs": [],
   "source": [
    "# Normalize the images\n",
    "images = images / 255.0\n",
    "\n",
    "# Convert labels to categorical\n",
    "labels = to_categorical(labels, num_classes=2)\n",
    "\n",
    "# Split the dataset into training and testing sets\n",
    "X_train, X_test, y_train, y_test = train_test_split(images, labels, test_size=0.2, random_state=42)"
   ]
  },
  {
   "cell_type": "markdown",
   "metadata": {},
   "source": [
    "### Building the Model\n",
    "\n",
    "CNN Model experimenting with the potential benefits by simply adding layers"
   ]
  },
  {
   "cell_type": "code",
   "execution_count": 4,
   "metadata": {},
   "outputs": [
    {
     "name": "stderr",
     "output_type": "stream",
     "text": [
      "2024-08-04 21:48:11.000695: E external/local_xla/xla/stream_executor/cuda/cuda_driver.cc:282] failed call to cuInit: CUDA_ERROR_NO_DEVICE: no CUDA-capable device is detected\n"
     ]
    },
    {
     "name": "stdout",
     "output_type": "stream",
     "text": [
      "Model: \"sequential\"\n",
      "_________________________________________________________________\n",
      " Layer (type)                Output Shape              Param #   \n",
      "=================================================================\n",
      " conv2d (Conv2D)             (None, 222, 222, 32)      896       \n",
      "                                                                 \n",
      " max_pooling2d (MaxPooling2  (None, 111, 111, 32)      0         \n",
      " D)                                                              \n",
      "                                                                 \n",
      " dropout (Dropout)           (None, 111, 111, 32)      0         \n",
      "                                                                 \n",
      " conv2d_1 (Conv2D)           (None, 109, 109, 64)      18496     \n",
      "                                                                 \n",
      " max_pooling2d_1 (MaxPoolin  (None, 54, 54, 64)        0         \n",
      " g2D)                                                            \n",
      "                                                                 \n",
      " dropout_1 (Dropout)         (None, 54, 54, 64)        0         \n",
      "                                                                 \n",
      " conv2d_2 (Conv2D)           (None, 52, 52, 128)       73856     \n",
      "                                                                 \n",
      " max_pooling2d_2 (MaxPoolin  (None, 26, 26, 128)       0         \n",
      " g2D)                                                            \n",
      "                                                                 \n",
      " dropout_2 (Dropout)         (None, 26, 26, 128)       0         \n",
      "                                                                 \n",
      " flatten (Flatten)           (None, 86528)             0         \n",
      "                                                                 \n",
      " dense (Dense)               (None, 512)               44302848  \n",
      "                                                                 \n",
      " dropout_3 (Dropout)         (None, 512)               0         \n",
      "                                                                 \n",
      " dense_1 (Dense)             (None, 2)                 1026      \n",
      "                                                                 \n",
      "=================================================================\n",
      "Total params: 44397122 (169.36 MB)\n",
      "Trainable params: 44397122 (169.36 MB)\n",
      "Non-trainable params: 0 (0.00 Byte)\n",
      "_________________________________________________________________\n"
     ]
    }
   ],
   "source": [
    "# Initialize the model\n",
    "model = Sequential()\n",
    "\n",
    "# Add an Input layer as the first layer in the model\n",
    "model.add(Input(shape=(224, 224, 3)))\n",
    "\n",
    "# Add convolutional layers\n",
    "model.add(Conv2D(32, (3, 3), activation='relu'))\n",
    "model.add(MaxPooling2D((2, 2)))\n",
    "model.add(Dropout(0.25))\n",
    "\n",
    "model.add(Conv2D(64, (3, 3), activation='relu'))\n",
    "model.add(MaxPooling2D((2, 2)))\n",
    "model.add(Dropout(0.25))\n",
    "\n",
    "model.add(Conv2D(128, (3, 3), activation='relu'))\n",
    "model.add(MaxPooling2D((2, 2)))\n",
    "model.add(Dropout(0.25))\n",
    "\n",
    "# Flatten the output\n",
    "model.add(Flatten())\n",
    "\n",
    "# Add dense layers\n",
    "model.add(Dense(512, activation='relu'))\n",
    "model.add(Dropout(0.5))\n",
    "model.add(Dense(2, activation='softmax'))\n",
    "\n",
    "# Compile the model\n",
    "model.compile(optimizer='adam', loss='categorical_crossentropy', metrics=['accuracy'])\n",
    "\n",
    "# Summary of the model\n",
    "model.summary()\n"
   ]
  },
  {
   "cell_type": "code",
   "execution_count": 5,
   "metadata": {},
   "outputs": [],
   "source": [
    "# Initialize the image data generator\n",
    "datagen = ImageDataGenerator(\n",
    "    rotation_range=20,\n",
    "    width_shift_range=0.2,\n",
    "    height_shift_range=0.2,\n",
    "    horizontal_flip=True\n",
    ")\n",
    "\n",
    "# Fit the data generator on the training data\n",
    "datagen.fit(X_train)"
   ]
  },
  {
   "cell_type": "markdown",
   "metadata": {},
   "source": [
    "### Training the Model"
   ]
  },
  {
   "cell_type": "code",
   "execution_count": null,
   "metadata": {
    "scrolled": true
   },
   "outputs": [
    {
     "name": "stdout",
     "output_type": "stream",
     "text": [
      "Epoch 1/50\n",
      "111/111 [==============================] - 111s 887ms/step - loss: 0.8236 - accuracy: 0.7460 - val_loss: 0.2690 - val_accuracy: 0.8863\n",
      "Epoch 2/50\n",
      "111/111 [==============================] - 97s 873ms/step - loss: 0.2198 - accuracy: 0.9208 - val_loss: 0.1477 - val_accuracy: 0.9459\n",
      "Epoch 3/50\n",
      "111/111 [==============================] - 97s 874ms/step - loss: 0.1672 - accuracy: 0.9433 - val_loss: 0.1587 - val_accuracy: 0.9428\n",
      "Epoch 4/50\n",
      "111/111 [==============================] - 97s 873ms/step - loss: 0.1360 - accuracy: 0.9551 - val_loss: 0.1357 - val_accuracy: 0.9535\n",
      "Epoch 5/50\n",
      "111/111 [==============================] - 97s 873ms/step - loss: 0.1513 - accuracy: 0.9479 - val_loss: 0.1183 - val_accuracy: 0.9685\n",
      "Epoch 6/50\n",
      "111/111 [==============================] - 97s 874ms/step - loss: 0.1286 - accuracy: 0.9594 - val_loss: 0.1733 - val_accuracy: 0.9274\n",
      "Epoch 7/50\n",
      "111/111 [==============================] - 97s 874ms/step - loss: 0.1342 - accuracy: 0.9550 - val_loss: 0.0987 - val_accuracy: 0.9676\n",
      "Epoch 8/50\n",
      "111/111 [==============================] - 97s 874ms/step - loss: 0.1178 - accuracy: 0.9625 - val_loss: 0.0847 - val_accuracy: 0.9744\n",
      "Epoch 9/50\n",
      "111/111 [==============================] - 97s 874ms/step - loss: 0.1037 - accuracy: 0.9648 - val_loss: 0.1048 - val_accuracy: 0.9668\n",
      "Epoch 10/50\n",
      "111/111 [==============================] - 97s 874ms/step - loss: 0.1047 - accuracy: 0.9654 - val_loss: 0.0983 - val_accuracy: 0.9662\n",
      "Epoch 11/50\n",
      "111/111 [==============================] - 97s 874ms/step - loss: 0.1098 - accuracy: 0.9641 - val_loss: 0.0810 - val_accuracy: 0.9710\n",
      "Epoch 12/50\n",
      "111/111 [==============================] - 97s 872ms/step - loss: 0.1040 - accuracy: 0.9657 - val_loss: 0.0758 - val_accuracy: 0.9797\n",
      "Epoch 13/50\n",
      "111/111 [==============================] - 97s 873ms/step - loss: 0.0886 - accuracy: 0.9711 - val_loss: 0.0746 - val_accuracy: 0.9749\n",
      "Epoch 14/50\n",
      "111/111 [==============================] - 97s 875ms/step - loss: 0.0846 - accuracy: 0.9702 - val_loss: 0.0685 - val_accuracy: 0.9792\n",
      "Epoch 15/50\n",
      "111/111 [==============================] - 97s 874ms/step - loss: 0.0875 - accuracy: 0.9694 - val_loss: 0.0849 - val_accuracy: 0.9679\n",
      "Epoch 16/50\n",
      "111/111 [==============================] - 97s 874ms/step - loss: 0.0930 - accuracy: 0.9684 - val_loss: 0.0891 - val_accuracy: 0.9688\n",
      "Epoch 17/50\n",
      "111/111 [==============================] - 97s 876ms/step - loss: 0.0842 - accuracy: 0.9691 - val_loss: 0.0670 - val_accuracy: 0.9758\n",
      "Epoch 18/50\n",
      "111/111 [==============================] - 97s 876ms/step - loss: 0.0756 - accuracy: 0.9739 - val_loss: 0.0604 - val_accuracy: 0.9825\n",
      "Epoch 19/50\n",
      "111/111 [==============================] - 97s 874ms/step - loss: 0.0659 - accuracy: 0.9768 - val_loss: 0.0598 - val_accuracy: 0.9778\n",
      "Epoch 20/50\n",
      "111/111 [==============================] - 97s 875ms/step - loss: 0.0623 - accuracy: 0.9778 - val_loss: 0.0591 - val_accuracy: 0.9809\n",
      "Epoch 21/50\n",
      "111/111 [==============================] - 97s 874ms/step - loss: 0.0784 - accuracy: 0.9723 - val_loss: 0.0698 - val_accuracy: 0.9755\n",
      "Epoch 22/50\n",
      "111/111 [==============================] - 97s 874ms/step - loss: 0.0629 - accuracy: 0.9787 - val_loss: 0.0526 - val_accuracy: 0.9823\n",
      "Epoch 26/50\n",
      "111/111 [==============================] - 97s 876ms/step - loss: 0.0596 - accuracy: 0.9797 - val_loss: 0.0476 - val_accuracy: 0.9837\n",
      "Epoch 27/50\n",
      "111/111 [==============================] - 98s 880ms/step - loss: 0.0783 - accuracy: 0.9732 - val_loss: 0.0697 - val_accuracy: 0.9735\n",
      "Epoch 28/50\n",
      "111/111 [==============================] - 98s 878ms/step - loss: 0.0585 - accuracy: 0.9802 - val_loss: 0.0514 - val_accuracy: 0.9828\n",
      "Epoch 29/50\n",
      "111/111 [==============================] - 97s 873ms/step - loss: 0.0533 - accuracy: 0.9820 - val_loss: 0.0689 - val_accuracy: 0.9775\n",
      "Epoch 30/50\n",
      "111/111 [==============================] - 97s 875ms/step - loss: 0.0593 - accuracy: 0.9773 - val_loss: 0.0414 - val_accuracy: 0.9870\n",
      "Epoch 31/50\n",
      "111/111 [==============================] - 97s 874ms/step - loss: 0.0507 - accuracy: 0.9823 - val_loss: 0.0478 - val_accuracy: 0.9859\n",
      "Epoch 32/50\n",
      "111/111 [==============================] - 97s 875ms/step - loss: 0.0570 - accuracy: 0.9797 - val_loss: 0.0518 - val_accuracy: 0.9792\n",
      "Epoch 33/50\n",
      "111/111 [==============================] - 97s 873ms/step - loss: 0.0527 - accuracy: 0.9810 - val_loss: 0.0538 - val_accuracy: 0.9792\n",
      "Epoch 34/50\n",
      "111/111 [==============================] - 97s 871ms/step - loss: 0.0490 - accuracy: 0.9816 - val_loss: 0.0628 - val_accuracy: 0.9783\n",
      "Epoch 35/50\n",
      "111/111 [==============================] - 97s 875ms/step - loss: 0.0408 - accuracy: 0.9867 - val_loss: 0.0459 - val_accuracy: 0.9823\n",
      "Epoch 36/50\n",
      "111/111 [==============================] - 97s 876ms/step - loss: 0.0482 - accuracy: 0.9842 - val_loss: 0.0384 - val_accuracy: 0.9862\n",
      "Epoch 37/50\n",
      "111/111 [==============================] - 97s 875ms/step - loss: 0.0480 - accuracy: 0.9842 - val_loss: 0.0456 - val_accuracy: 0.9851\n",
      "Epoch 38/50\n",
      "111/111 [==============================] - 97s 876ms/step - loss: 0.0449 - accuracy: 0.9844 - val_loss: 0.0613 - val_accuracy: 0.9769\n",
      "Epoch 39/50\n",
      "111/111 [==============================] - 97s 873ms/step - loss: 0.0496 - accuracy: 0.9840 - val_loss: 0.0667 - val_accuracy: 0.9794\n",
      "Epoch 40/50\n",
      "111/111 [==============================] - 97s 875ms/step - loss: 0.0409 - accuracy: 0.9864 - val_loss: 0.0451 - val_accuracy: 0.9814\n",
      "Epoch 42/50\n",
      "111/111 [==============================] - 97s 875ms/step - loss: 0.0478 - accuracy: 0.9835 - val_loss: 0.0289 - val_accuracy: 0.9896\n",
      "Epoch 43/50\n",
      "111/111 [==============================] - 97s 872ms/step - loss: 0.0410 - accuracy: 0.9861 - val_loss: 0.0250 - val_accuracy: 0.9921\n",
      "Epoch 44/50\n",
      "111/111 [==============================] - 97s 873ms/step - loss: 0.0425 - accuracy: 0.9854 - val_loss: 0.0367 - val_accuracy: 0.9879\n",
      "Epoch 45/50\n",
      "111/111 [==============================] - 97s 874ms/step - loss: 0.0426 - accuracy: 0.9849 - val_loss: 0.0390 - val_accuracy: 0.9862\n",
      "Epoch 46/50\n",
      "111/111 [==============================] - 97s 874ms/step - loss: 0.0346 - accuracy: 0.9889 - val_loss: 0.0306 - val_accuracy: 0.9907\n",
      "Epoch 47/50\n",
      "111/111 [==============================] - 98s 879ms/step - loss: 0.0383 - accuracy: 0.9870 - val_loss: 0.0287 - val_accuracy: 0.9890\n",
      "Epoch 48/50\n",
      "111/111 [==============================] - 100s 899ms/step - loss: 0.0693 - accuracy: 0.9761 - val_loss: 0.0677 - val_accuracy: 0.9735\n",
      "Epoch 49/50\n",
      "111/111 [==============================] - 100s 898ms/step - loss: 0.0561 - accuracy: 0.9814 - val_loss: 0.0356 - val_accuracy: 0.9859\n",
      "Epoch 50/50\n",
      "111/111 [==============================] - 100s 899ms/step - loss: 0.0419 - accuracy: 0.9858 - val_loss: 0.0324 - val_accuracy: 0.9885\n"
     ]
    }
   ],
   "source": [
    "# Callbacks\n",
    "early_stopping = EarlyStopping(monitor='val_loss', patience=10, restore_best_weights=True)\n",
    "\n",
    "# Train the model using the data generator\n",
    "history = model.fit(datagen.flow(X_train, y_train, batch_size=128), \n",
    "                    epochs=50, \n",
    "                    validation_data=(X_test, y_test),\n",
    "                    callbacks=[early_stopping])"
   ]
  },
  {
   "cell_type": "markdown",
   "metadata": {},
   "source": [
    "### Evaluating the Model"
   ]
  },
  {
   "cell_type": "code",
   "execution_count": null,
   "metadata": {},
   "outputs": [
    {
     "name": "stdout",
     "output_type": "stream",
     "text": [
      "111/111 [==============================] - 2s 18ms/step - loss: 0.0250 - accuracy: 0.9921\n",
      "Test Accuracy: 99.21%\n"
     ]
    }
   ],
   "source": [
    "# Evaluate the model on the test set\n",
    "loss, accuracy = model.evaluate(X_test, y_test)\n",
    "print(f'Test Accuracy: {accuracy*100:.2f}%')"
   ]
  },
  {
   "cell_type": "markdown",
   "metadata": {},
   "source": [
    "### Making Predictions"
   ]
  },
  {
   "cell_type": "code",
   "execution_count": 9,
   "metadata": {},
   "outputs": [
    {
     "name": "stdout",
     "output_type": "stream",
     "text": [
      "1/1 [==============================] - 0s 309ms/step\n",
      "The image is predicted as: Car\n"
     ]
    }
   ],
   "source": [
    "# Function to preprocess and predict on a new image\n",
    "def predict_vehicle(model, img_path):\n",
    "    img = cv2.imread(img_path)\n",
    "    img = cv2.resize(img, (224, 224))\n",
    "    img = np.expand_dims(img, axis=0) / 255.0\n",
    "    prediction = model.predict(img)\n",
    "    return 'Car' if np.argmax(prediction) == 1 else 'Non-car'\n",
    "\n",
    "# Test on a new image\n",
    "test_img_path = os.path.join(vehicle_folder, '10.png')  # Corrected test image path\n",
    "try:\n",
    "    result = predict_vehicle(model, test_img_path)\n",
    "    print(f'The image is predicted as: {result}')\n",
    "except FileNotFoundError as e:\n",
    "    print(e)"
   ]
  },
  {
   "cell_type": "markdown",
   "metadata": {},
   "source": [
    "### Visualization"
   ]
  },
  {
   "cell_type": "code",
   "execution_count": 10,
   "metadata": {},
   "outputs": [
    {
     "data": {
      "image/png": "[encoded data removed]",
      "text/plain": [
       "<Figure size 640x480 with 1 Axes>"
      ]
     },
     "metadata": {},
     "output_type": "display_data"
    }
   ],
   "source": [
    "# Display the test image with prediction\n",
    "img = cv2.imread(test_img_path)\n",
    "plt.imshow(cv2.cvtColor(img, cv2.COLOR_BGR2RGB))\n",
    "plt.title(result)\n",
    "plt.show()"
   ]
  },
  {
   "cell_type": "markdown",
   "metadata": {},
   "source": [
    "### Model Performance Report"
   ]
  },
  {
   "cell_type": "code",
   "execution_count": 11,
   "metadata": {},
   "outputs": [
    {
     "name": "stdout",
     "output_type": "stream",
     "text": [
      "111/111 [==============================] - 2s 18ms/step\n",
      "Model Evaluation Report\n",
      "========================\n",
      "\n",
      "1. Overall Accuracy: 99.21%\n",
      "   Test Loss: 0.0250\n",
      "\n",
      "2. Confusion Matrix:\n",
      "[[1793    8]\n",
      " [  20 1731]]\n",
      "\n",
      "3. Classification Report:\n",
      "              precision    recall  f1-score   support\n",
      "\n",
      " Non-vehicle       0.99      1.00      0.99      1801\n",
      "     Vehicle       1.00      0.99      0.99      1751\n",
      "\n",
      "    accuracy                           0.99      3552\n",
      "   macro avg       0.99      0.99      0.99      3552\n",
      "weighted avg       0.99      0.99      0.99      3552\n",
      "\n",
      "\n"
     ]
    },
    {
     "data": {
      "image/png": "[encoded data removed]",
      "text/plain": [
       "<Figure size 1000x800 with 2 Axes>"
      ]
     },
     "metadata": {},
     "output_type": "display_data"
    }
   ],
   "source": [
    "from IPython.display import display\n",
    "\n",
    "def generate_model_report(model, X_test, y_test, class_names):\n",
    "    report = \"Model Evaluation Report\\n========================\\n\\n\"\n",
    "    \n",
    "    # 1. Predict on test data\n",
    "    y_pred = model.predict(X_test)\n",
    "    y_pred_classes = np.argmax(y_pred, axis=1)\n",
    "    y_true = np.argmax(y_test, axis=1)\n",
    "    \n",
    "    # 2. Overall Accuracy\n",
    "    test_loss, test_accuracy = model.evaluate(X_test, y_test, verbose=0)\n",
    "    report += f\"1. Overall Accuracy: {test_accuracy*100:.2f}%\\n\"\n",
    "    report += f\"   Test Loss: {test_loss:.4f}\\n\\n\"\n",
    "    \n",
    "    # 3. Confusion Matrix\n",
    "    cm = confusion_matrix(y_true, y_pred_classes)\n",
    "    report += \"2. Confusion Matrix:\\n\"\n",
    "    report += str(cm) + \"\\n\\n\"\n",
    "    \n",
    "    # 4. Classification Report\n",
    "    class_report = classification_report(y_true, y_pred_classes, target_names=class_names)\n",
    "    report += \"3. Classification Report:\\n\"\n",
    "    report += class_report + \"\\n\"\n",
    "    \n",
    "    # 5. Visualizations\n",
    "    plt.figure(figsize=(10, 8))\n",
    "    sns.heatmap(cm, annot=True, fmt='d', cmap='Blues', xticklabels=class_names, yticklabels=class_names)\n",
    "    plt.title('Confusion Matrix')\n",
    "    plt.ylabel('True Label')\n",
    "    plt.xlabel('Predicted Label')\n",
    "    \n",
    "    return report, plt\n",
    "\n",
    "# Example usage (you would run this after training your model)\n",
    "class_names = ['Non-vehicle', 'Vehicle']\n",
    "report, confusion_matrix_plot = generate_model_report(model, X_test, y_test, class_names)\n",
    "\n",
    "# Print the report\n",
    "print(report)\n",
    "\n",
    "# Display the confusion matrix\n",
    "display(confusion_matrix_plot.gcf())\n",
    "plt.close()"
   ]
  },
  {
   "cell_type": "markdown",
   "metadata": {},
   "source": [
    "### Saving the Model"
   ]
  },
  {
   "cell_type": "code",
   "execution_count": 16,
   "metadata": {},
   "outputs": [
    {
     "name": "stderr",
     "output_type": "stream",
     "text": [
      "/home/ec2-user/anaconda3/envs/tensorflow2_p310/lib/python3.10/site-packages/tf_keras/src/engine/training.py:3098: UserWarning: You are saving your model as an HDF5 file via `model.save()`. This file format is considered legacy. We recommend using instead the native TF-Keras format, e.g. `model.save('my_model.keras')`.\n",
      "  saving_api.save_model(\n"
     ]
    },
    {
     "name": "stdout",
     "output_type": "stream",
     "text": [
      "Model saved to 'vehicle_detection_model.h5'\n"
     ]
    }
   ],
   "source": [
    "# Save the trained model to a .h5 file\n",
    "model.save('vehicle_detection_model.h5')\n",
    "print(\"Model saved to 'vehicle_detection_model.h5'\")"
   ]
  },
  {
   "cell_type": "code",
   "execution_count": null,
   "metadata": {},
   "outputs": [],
   "source": []
  }
 ],
 "metadata": {
  "kernelspec": {
   "display_name": "conda_tensorflow2_p310",
   "language": "python",
   "name": "conda_tensorflow2_p310"
  },
  "language_info": {
   "codemirror_mode": {
    "name": "ipython",
    "version": 3
   },
   "file_extension": ".py",
   "mimetype": "text/x-python",
   "name": "python",
   "nbconvert_exporter": "python",
   "pygments_lexer": "ipython3",
   "version": "3.10.14"
  }
 },
 "nbformat": 4,
 "nbformat_minor": 2
}
