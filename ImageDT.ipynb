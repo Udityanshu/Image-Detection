{
 "cells": [
  {
   "cell_type": "code",
   "execution_count": 6,
   "metadata": {},
   "outputs": [],
   "source": [
    "import numpy as np\n",
    "import pandas as pd\n",
    "import os\n",
    "import matplotlib.pyplot as plt\n",
    "import cv2\n",
    "from tqdm import tqdm\n",
    "from sklearn.model_selection import train_test_split\n",
    "from tensorflow.keras.models import Sequential\n",
    "from tensorflow.keras.layers import Dense, Conv2D, MaxPooling2D, Flatten, Dropout\n",
    "from tensorflow.keras.preprocessing.image import ImageDataGenerator\n",
    "from tensorflow.keras.utils import to_categorical"
   ]
  },
  {
   "cell_type": "code",
   "execution_count": 7,
   "metadata": {},
   "outputs": [
    {
     "ename": "SyntaxError",
     "evalue": "(unicode error) 'unicodeescape' codec can't decode bytes in position 2-3: truncated \\UXXXXXXXX escape (173652879.py, line 2)",
     "output_type": "error",
     "traceback": [
      "\u001b[1;36m  Cell \u001b[1;32mIn[7], line 2\u001b[1;36m\u001b[0m\n\u001b[1;33m    data_path = 'C:\\Users\\ugoyal\\Documents\\Image-Detection\\data'\u001b[0m\n\u001b[1;37m                                                                ^\u001b[0m\n\u001b[1;31mSyntaxError\u001b[0m\u001b[1;31m:\u001b[0m (unicode error) 'unicodeescape' codec can't decode bytes in position 2-3: truncated \\UXXXXXXXX escape\n"
     ]
    }
   ],
   "source": [
    "# Define the path to the dataset\n",
    "data_path = 'C:\\Users\\ugoyal\\Documents\\Image-Detection\\data'\n",
    "\n",
    "# Initialize lists to hold image data and labels\n",
    "images = []\n",
    "labels = []\n",
    "\n",
    "# Counters for labeling\n",
    "car_count = 0\n",
    "non_car_count = 0\n",
    "\n",
    "# Loop over each image in the dataset directory\n",
    "for img_name in os.listdir(data_path):\n",
    "    # Read the image using OpenCV\n",
    "    img_path = os.path.join(data_path, img_name)\n",
    "    img = cv2.imread(img_path)\n",
    "    if img is None:\n",
    "        continue  # Skip if the image couldn't be read\n",
    "    \n",
    "    # Resize image to 224x224 pixels\n",
    "    img = cv2.resize(img, (224, 224))\n",
    "    images.append(img)\n",
    "    \n",
    "    # Assign labels based on image filenames\n",
    "    if 'car' in img_name:\n",
    "        car_count += 1\n",
    "        label = car_count\n",
    "    else:\n",
    "        non_car_count += 1\n",
    "        label = f'extra{non_car_count}'\n",
    "    \n",
    "    labels.append(label)\n",
    "\n",
    "# Convert lists to numpy arrays\n",
    "images = np.array(images)\n",
    "labels = np.array(labels)\n",
    "\n",
    "print(\"Images shape:\", images.shape)\n",
    "print(\"Labels:\", labels)"
   ]
  },
  {
   "cell_type": "code",
   "execution_count": null,
   "metadata": {},
   "outputs": [],
   "source": []
  }
 ],
 "metadata": {
  "kernelspec": {
   "display_name": "Python 3 (ipykernel)",
   "language": "python",
   "name": "python3"
  }
 },
 "nbformat": 4,
 "nbformat_minor": 2
}
