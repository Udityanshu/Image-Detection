{
 "cells": [
  {
   "cell_type": "markdown",
   "metadata": {},
   "source": [
    "### Import Libraries"
   ]
  },
  {
   "cell_type": "code",
   "execution_count": 9,
   "metadata": {},
   "outputs": [],
   "source": [
    "import numpy as np\n",
    "import pandas as pd\n",
    "import os\n",
    "import matplotlib.pyplot as plt\n",
    "import cv2\n",
    "from tqdm import tqdm\n",
    "from sklearn.model_selection import train_test_split\n",
    "from tensorflow.keras.models import Sequential\n",
    "from tensorflow.keras.layers import Input, Dense, Conv2D, MaxPooling2D, Flatten, Dropout\n",
    "from tensorflow.keras.preprocessing.image import ImageDataGenerator\n",
    "from tensorflow.keras.utils import to_categorical\n",
    "from tensorflow.keras.callbacks import EarlyStopping"
   ]
  },
  {
   "cell_type": "markdown",
   "metadata": {},
   "source": [
    "### Loading and Preprocessing data"
   ]
  },
  {
   "cell_type": "code",
   "execution_count": 10,
   "metadata": {},
   "outputs": [
    {
     "name": "stdout",
     "output_type": "stream",
     "text": [
      "Images shape: (17760, 224, 224, 3)\n",
      "Labels: [1 1 1 ... 0 0 0]\n"
     ]
    }
   ],
   "source": [
    "# Define the paths to the dataset folders\n",
    "data_path ='data'\n",
    "non_vehicle_folder = os.path.join(data_path, 'non-vehicles')\n",
    "vehicle_folder = os.path.join(data_path, 'vehicles')\n",
    "\n",
    "# Initialize lists to hold image data and labels\n",
    "images = []\n",
    "labels = []\n",
    "\n",
    "# Counters for labeling\n",
    "car_count = 0\n",
    "non_car_count = 0\n",
    "\n",
    "# Helper function to process images from a given folder\n",
    "def process_images_from_folder(folder_path, is_vehicle):\n",
    "    global car_count, non_car_count\n",
    "    for img_name in os.listdir(folder_path):\n",
    "        img_path = os.path.join(folder_path, img_name)\n",
    "        img = cv2.imread(img_path)\n",
    "        if img is None:\n",
    "            continue  # Skip if the image couldn't be read\n",
    "        \n",
    "        # Resize image to 224x224 pixels\n",
    "        img = cv2.resize(img, (224, 224))\n",
    "        images.append(img)\n",
    "        \n",
    "        # Assign labels based on whether it's a vehicle or non-vehicle\n",
    "        if is_vehicle:\n",
    "            label = 1  # Label for car\n",
    "            car_count += 1\n",
    "        else:\n",
    "            label = 0  # Label for non-car\n",
    "            non_car_count += 1\n",
    "        \n",
    "        labels.append(label)\n",
    "\n",
    "# Process images from both folders\n",
    "process_images_from_folder(vehicle_folder, is_vehicle=True)\n",
    "process_images_from_folder(non_vehicle_folder, is_vehicle=False)\n",
    "\n",
    "# Convert lists to numpy arrays\n",
    "images = np.array(images)\n",
    "labels = np.array(labels)\n",
    "\n",
    "print(\"Images shape:\", images.shape)\n",
    "print(\"Labels:\", labels)\n"
   ]
  },
  {
   "cell_type": "markdown",
   "metadata": {},
   "source": [
    "### Normalizing and Splitting data"
   ]
  },
  {
   "cell_type": "code",
   "execution_count": 11,
   "metadata": {},
   "outputs": [],
   "source": [
    "# Normalize the images\n",
    "images = images / 255.0\n",
    "\n",
    "# Convert labels to categorical\n",
    "labels = to_categorical(labels, num_classes=2)\n",
    "\n",
    "# Split the dataset into training and testing sets\n",
    "X_train, X_test, y_train, y_test = train_test_split(images, labels, test_size=0.2, random_state=42)"
   ]
  },
  {
   "cell_type": "markdown",
   "metadata": {},
   "source": [
    "### Building the Model\n",
    "\n",
    "CNN Model experimenting with the potential benefits by simply adding layers"
   ]
  },
  {
   "cell_type": "code",
   "execution_count": 12,
   "metadata": {},
   "outputs": [
    {
     "name": "stdout",
     "output_type": "stream",
     "text": [
      "Model: \"sequential_1\"\n",
      "_________________________________________________________________\n",
      " Layer (type)                Output Shape              Param #   \n",
      "=================================================================\n",
      " conv2d_3 (Conv2D)           (None, 222, 222, 32)      896       \n",
      "                                                                 \n",
      " max_pooling2d_3 (MaxPoolin  (None, 111, 111, 32)      0         \n",
      " g2D)                                                            \n",
      "                                                                 \n",
      " dropout_4 (Dropout)         (None, 111, 111, 32)      0         \n",
      "                                                                 \n",
      " conv2d_4 (Conv2D)           (None, 109, 109, 64)      18496     \n",
      "                                                                 \n",
      " max_pooling2d_4 (MaxPoolin  (None, 54, 54, 64)        0         \n",
      " g2D)                                                            \n",
      "                                                                 \n",
      " dropout_5 (Dropout)         (None, 54, 54, 64)        0         \n",
      "                                                                 \n",
      " conv2d_5 (Conv2D)           (None, 52, 52, 128)       73856     \n",
      "                                                                 \n",
      " max_pooling2d_5 (MaxPoolin  (None, 26, 26, 128)       0         \n",
      " g2D)                                                            \n",
      "                                                                 \n",
      " dropout_6 (Dropout)         (None, 26, 26, 128)       0         \n",
      "                                                                 \n",
      " flatten_1 (Flatten)         (None, 86528)             0         \n",
      "                                                                 \n",
      " dense_2 (Dense)             (None, 512)               44302848  \n",
      "                                                                 \n",
      " dropout_7 (Dropout)         (None, 512)               0         \n",
      "                                                                 \n",
      " dense_3 (Dense)             (None, 2)                 1026      \n",
      "                                                                 \n",
      "=================================================================\n",
      "Total params: 44397122 (169.36 MB)\n",
      "Trainable params: 44397122 (169.36 MB)\n",
      "Non-trainable params: 0 (0.00 Byte)\n",
      "_________________________________________________________________\n"
     ]
    }
   ],
   "source": [
    "# Initialize the model\n",
    "model = Sequential()\n",
    "\n",
    "# Add an Input layer as the first layer in the model\n",
    "model.add(Input(shape=(224, 224, 3)))\n",
    "\n",
    "# Add convolutional layers\n",
    "model.add(Conv2D(32, (3, 3), activation='relu'))\n",
    "model.add(MaxPooling2D((2, 2)))\n",
    "model.add(Dropout(0.25))\n",
    "\n",
    "model.add(Conv2D(64, (3, 3), activation='relu'))\n",
    "model.add(MaxPooling2D((2, 2)))\n",
    "model.add(Dropout(0.25))\n",
    "\n",
    "model.add(Conv2D(128, (3, 3), activation='relu'))\n",
    "model.add(MaxPooling2D((2, 2)))\n",
    "model.add(Dropout(0.25))\n",
    "\n",
    "# Flatten the output\n",
    "model.add(Flatten())\n",
    "\n",
    "# Add dense layers\n",
    "model.add(Dense(512, activation='relu'))\n",
    "model.add(Dropout(0.5))\n",
    "model.add(Dense(2, activation='softmax'))\n",
    "\n",
    "# Compile the model\n",
    "model.compile(optimizer='adam', loss='categorical_crossentropy', metrics=['accuracy'])\n",
    "\n",
    "# Summary of the model\n",
    "model.summary()\n"
   ]
  },
  {
   "cell_type": "code",
   "execution_count": 13,
   "metadata": {},
   "outputs": [],
   "source": [
    "# Initialize the image data generator\n",
    "datagen = ImageDataGenerator(\n",
    "    rotation_range=20,\n",
    "    width_shift_range=0.2,\n",
    "    height_shift_range=0.2,\n",
    "    horizontal_flip=True\n",
    ")\n",
    "\n",
    "# Fit the data generator on the training data\n",
    "datagen.fit(X_train)"
   ]
  },
  {
   "cell_type": "markdown",
   "metadata": {},
   "source": [
    "### Training the Model"
   ]
  },
  {
   "cell_type": "code",
   "execution_count": 14,
   "metadata": {
    "scrolled": true
   },
   "outputs": [
    {
     "name": "stdout",
     "output_type": "stream",
     "text": [
      "Epoch 1/50\n",
      "111/111 [==============================] - 99s 881ms/step - loss: 0.7736 - accuracy: 0.7140 - val_loss: 0.2495 - val_accuracy: 0.9065\n",
      "Epoch 2/50\n",
      "111/111 [==============================] - 96s 866ms/step - loss: 0.2393 - accuracy: 0.9123 - val_loss: 0.1559 - val_accuracy: 0.9510\n",
      "Epoch 3/50\n",
      "111/111 [==============================] - 96s 863ms/step - loss: 0.1507 - accuracy: 0.9439 - val_loss: 0.1392 - val_accuracy: 0.9409\n",
      "Epoch 4/50\n",
      "111/111 [==============================] - 95s 856ms/step - loss: 0.1203 - accuracy: 0.9554 - val_loss: 0.0814 - val_accuracy: 0.9803\n",
      "Epoch 5/50\n",
      "111/111 [==============================] - 95s 852ms/step - loss: 0.0966 - accuracy: 0.9654 - val_loss: 0.0659 - val_accuracy: 0.9825\n",
      "Epoch 6/50\n",
      "111/111 [==============================] - 96s 864ms/step - loss: 0.0884 - accuracy: 0.9688 - val_loss: 0.0630 - val_accuracy: 0.9828\n",
      "Epoch 7/50\n",
      "111/111 [==============================] - 97s 874ms/step - loss: 0.0747 - accuracy: 0.9751 - val_loss: 0.0570 - val_accuracy: 0.9870\n",
      "Epoch 8/50\n",
      "111/111 [==============================] - 96s 865ms/step - loss: 0.0782 - accuracy: 0.9728 - val_loss: 0.0462 - val_accuracy: 0.9896\n",
      "Epoch 9/50\n",
      "111/111 [==============================] - 97s 875ms/step - loss: 0.0681 - accuracy: 0.9782 - val_loss: 0.0488 - val_accuracy: 0.9854\n",
      "Epoch 10/50\n",
      "111/111 [==============================] - 97s 873ms/step - loss: 0.0817 - accuracy: 0.9710 - val_loss: 0.0552 - val_accuracy: 0.9828\n",
      "Epoch 11/50\n",
      "111/111 [==============================] - 97s 874ms/step - loss: 0.0673 - accuracy: 0.9774 - val_loss: 0.0539 - val_accuracy: 0.9831\n",
      "Epoch 12/50\n",
      "111/111 [==============================] - 97s 875ms/step - loss: 0.0608 - accuracy: 0.9794 - val_loss: 0.0410 - val_accuracy: 0.9899\n",
      "Epoch 13/50\n",
      "111/111 [==============================] - 94s 846ms/step - loss: 0.0540 - accuracy: 0.9823 - val_loss: 0.0402 - val_accuracy: 0.9873\n",
      "Epoch 14/50\n",
      "111/111 [==============================] - 93s 837ms/step - loss: 0.0539 - accuracy: 0.9822 - val_loss: 0.0574 - val_accuracy: 0.9800\n",
      "Epoch 15/50\n",
      "111/111 [==============================] - 93s 839ms/step - loss: 0.0538 - accuracy: 0.9800 - val_loss: 0.0417 - val_accuracy: 0.9870\n",
      "Epoch 16/50\n",
      "111/111 [==============================] - 93s 839ms/step - loss: 0.0542 - accuracy: 0.9817 - val_loss: 0.0376 - val_accuracy: 0.9890\n",
      "Epoch 17/50\n",
      "111/111 [==============================] - 95s 856ms/step - loss: 0.0482 - accuracy: 0.9835 - val_loss: 0.0306 - val_accuracy: 0.9921\n",
      "Epoch 18/50\n",
      "111/111 [==============================] - 96s 864ms/step - loss: 0.0548 - accuracy: 0.9802 - val_loss: 0.0287 - val_accuracy: 0.9927\n",
      "Epoch 19/50\n",
      "111/111 [==============================] - 93s 841ms/step - loss: 0.0456 - accuracy: 0.9832 - val_loss: 0.0322 - val_accuracy: 0.9916\n",
      "Epoch 20/50\n",
      "111/111 [==============================] - 93s 840ms/step - loss: 0.0473 - accuracy: 0.9839 - val_loss: 0.0295 - val_accuracy: 0.9913\n",
      "Epoch 21/50\n",
      "111/111 [==============================] - 93s 839ms/step - loss: 0.0430 - accuracy: 0.9849 - val_loss: 0.0382 - val_accuracy: 0.9873\n",
      "Epoch 22/50\n",
      "111/111 [==============================] - 94s 842ms/step - loss: 0.0393 - accuracy: 0.9866 - val_loss: 0.0272 - val_accuracy: 0.9901\n",
      "Epoch 23/50\n",
      "111/111 [==============================] - 93s 839ms/step - loss: 0.0570 - accuracy: 0.9815 - val_loss: 0.0288 - val_accuracy: 0.9918\n",
      "Epoch 24/50\n",
      "111/111 [==============================] - 94s 850ms/step - loss: 0.0421 - accuracy: 0.9862 - val_loss: 0.0248 - val_accuracy: 0.9901\n",
      "Epoch 25/50\n",
      "111/111 [==============================] - 96s 862ms/step - loss: 0.0402 - accuracy: 0.9868 - val_loss: 0.0249 - val_accuracy: 0.9916\n",
      "Epoch 26/50\n",
      "111/111 [==============================] - 93s 840ms/step - loss: 0.0383 - accuracy: 0.9868 - val_loss: 0.0311 - val_accuracy: 0.9896\n",
      "Epoch 27/50\n",
      "111/111 [==============================] - 93s 840ms/step - loss: 0.0466 - accuracy: 0.9845 - val_loss: 0.0274 - val_accuracy: 0.9913\n",
      "Epoch 28/50\n",
      "111/111 [==============================] - 93s 839ms/step - loss: 0.0404 - accuracy: 0.9867 - val_loss: 0.0236 - val_accuracy: 0.9935\n",
      "Epoch 29/50\n",
      "111/111 [==============================] - 93s 839ms/step - loss: 0.0477 - accuracy: 0.9840 - val_loss: 0.0259 - val_accuracy: 0.9938\n",
      "Epoch 30/50\n",
      "111/111 [==============================] - 93s 839ms/step - loss: 0.0526 - accuracy: 0.9819 - val_loss: 0.0527 - val_accuracy: 0.9820\n",
      "Epoch 31/50\n",
      "111/111 [==============================] - 94s 842ms/step - loss: 0.0359 - accuracy: 0.9873 - val_loss: 0.0189 - val_accuracy: 0.9935\n",
      "Epoch 32/50\n",
      "111/111 [==============================] - 93s 838ms/step - loss: 0.0406 - accuracy: 0.9865 - val_loss: 0.0274 - val_accuracy: 0.9904\n",
      "Epoch 33/50\n",
      "111/111 [==============================] - 93s 839ms/step - loss: 0.0446 - accuracy: 0.9861 - val_loss: 0.0253 - val_accuracy: 0.9944\n",
      "Epoch 34/50\n",
      "111/111 [==============================] - 93s 837ms/step - loss: 0.0304 - accuracy: 0.9903 - val_loss: 0.0231 - val_accuracy: 0.9930\n",
      "Epoch 35/50\n",
      "111/111 [==============================] - 93s 838ms/step - loss: 0.0396 - accuracy: 0.9859 - val_loss: 0.0171 - val_accuracy: 0.9952\n",
      "Epoch 36/50\n",
      "111/111 [==============================] - 93s 838ms/step - loss: 0.0283 - accuracy: 0.9899 - val_loss: 0.0212 - val_accuracy: 0.9924\n",
      "Epoch 37/50\n",
      "111/111 [==============================] - 93s 838ms/step - loss: 0.0292 - accuracy: 0.9900 - val_loss: 0.0276 - val_accuracy: 0.9921\n",
      "Epoch 38/50\n",
      "111/111 [==============================] - 93s 837ms/step - loss: 0.0412 - accuracy: 0.9860 - val_loss: 0.0251 - val_accuracy: 0.9927\n",
      "Epoch 39/50\n",
      "111/111 [==============================] - 93s 840ms/step - loss: 0.0341 - accuracy: 0.9882 - val_loss: 0.0226 - val_accuracy: 0.9913\n",
      "Epoch 40/50\n",
      "111/111 [==============================] - 93s 838ms/step - loss: 0.0425 - accuracy: 0.9866 - val_loss: 0.0319 - val_accuracy: 0.9930\n",
      "Epoch 41/50\n",
      "111/111 [==============================] - 93s 840ms/step - loss: 0.0312 - accuracy: 0.9898 - val_loss: 0.0205 - val_accuracy: 0.9949\n",
      "Epoch 42/50\n",
      "111/111 [==============================] - 93s 839ms/step - loss: 0.0268 - accuracy: 0.9909 - val_loss: 0.0200 - val_accuracy: 0.9949\n",
      "Epoch 43/50\n",
      "111/111 [==============================] - 93s 839ms/step - loss: 0.0328 - accuracy: 0.9887 - val_loss: 0.0168 - val_accuracy: 0.9955\n",
      "Epoch 44/50\n",
      "111/111 [==============================] - 93s 839ms/step - loss: 0.0307 - accuracy: 0.9901 - val_loss: 0.0148 - val_accuracy: 0.9955\n",
      "Epoch 45/50\n",
      "111/111 [==============================] - 93s 839ms/step - loss: 0.0355 - accuracy: 0.9883 - val_loss: 0.0221 - val_accuracy: 0.9949\n",
      "Epoch 46/50\n",
      "111/111 [==============================] - 93s 840ms/step - loss: 0.0469 - accuracy: 0.9854 - val_loss: 0.0195 - val_accuracy: 0.9938\n",
      "Epoch 47/50\n",
      "111/111 [==============================] - 93s 839ms/step - loss: 0.0404 - accuracy: 0.9869 - val_loss: 0.0427 - val_accuracy: 0.9859\n",
      "Epoch 48/50\n",
      "111/111 [==============================] - 94s 848ms/step - loss: 0.0438 - accuracy: 0.9854 - val_loss: 0.0182 - val_accuracy: 0.9963\n",
      "Epoch 49/50\n",
      "111/111 [==============================] - 96s 865ms/step - loss: 0.0331 - accuracy: 0.9903 - val_loss: 0.0159 - val_accuracy: 0.9963\n",
      "Epoch 50/50\n",
      "111/111 [==============================] - 98s 883ms/step - loss: 0.0313 - accuracy: 0.9912 - val_loss: 0.0139 - val_accuracy: 0.9958\n"
     ]
    }
   ],
   "source": [
    "# Callbacks\n",
    "early_stopping = EarlyStopping(monitor='val_loss', patience=10, restore_best_weights=True)\n",
    "\n",
    "# Train the model using the data generator\n",
    "history = model.fit(datagen.flow(X_train, y_train, batch_size=128), \n",
    "                    epochs=50, \n",
    "                    validation_data=(X_test, y_test),\n",
    "                    callbacks=[early_stopping])"
   ]
  },
  {
   "cell_type": "markdown",
   "metadata": {},
   "source": [
    "### Evaluating the Model"
   ]
  },
  {
   "cell_type": "code",
   "execution_count": 15,
   "metadata": {},
   "outputs": [
    {
     "name": "stdout",
     "output_type": "stream",
     "text": [
      "111/111 [==============================] - 2s 18ms/step - loss: 0.0139 - accuracy: 0.9958\n",
      "Test Accuracy: 99.58%\n"
     ]
    }
   ],
   "source": [
    "# Evaluate the model on the test set\n",
    "loss, accuracy = model.evaluate(X_test, y_test)\n",
    "print(f'Test Accuracy: {accuracy*100:.2f}%')"
   ]
  },
  {
   "cell_type": "markdown",
   "metadata": {},
   "source": [
    "### Making Predictions"
   ]
  },
  {
   "cell_type": "code",
   "execution_count": null,
   "metadata": {},
   "outputs": [],
   "source": []
  }
 ],
 "metadata": {
  "kernelspec": {
   "display_name": "conda_tensorflow2_p310",
   "language": "python",
   "name": "conda_tensorflow2_p310"
  },
  "language_info": {
   "codemirror_mode": {
    "name": "ipython",
    "version": 3
   },
   "file_extension": ".py",
   "mimetype": "text/x-python",
   "name": "python",
   "nbconvert_exporter": "python",
   "pygments_lexer": "ipython3",
   "version": "3.10.14"
  }
 },
 "nbformat": 4,
 "nbformat_minor": 2
}
