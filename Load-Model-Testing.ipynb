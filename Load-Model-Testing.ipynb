{
 "cells": [
  {
   "cell_type": "code",
   "execution_count": 13,
   "id": "321b1d36",
   "metadata": {},
   "outputs": [
    {
     "name": "stdout",
     "output_type": "stream",
     "text": [
      "Model loaded from 'vehicle_detection_model.h5'\n"
     ]
    }
   ],
   "source": [
    "from tensorflow.keras.models import load_model\n",
    "\n",
    "# Load the model from the .h5 file\n",
    "loaded_model = load_model('vehicle_detection_model.h5')\n",
    "print(\"Model loaded from 'vehicle_detection_model.h5'\")"
   ]
  },
  {
   "cell_type": "code",
   "execution_count": 14,
   "id": "cda2790c",
   "metadata": {},
   "outputs": [
    {
     "name": "stdout",
     "output_type": "stream",
     "text": [
      "Model: \"sequential\"\n",
      "_________________________________________________________________\n",
      " Layer (type)                Output Shape              Param #   \n",
      "=================================================================\n",
      " conv2d (Conv2D)             (None, 222, 222, 32)      896       \n",
      "                                                                 \n",
      " max_pooling2d (MaxPooling2  (None, 111, 111, 32)      0         \n",
      " D)                                                              \n",
      "                                                                 \n",
      " dropout (Dropout)           (None, 111, 111, 32)      0         \n",
      "                                                                 \n",
      " conv2d_1 (Conv2D)           (None, 109, 109, 64)      18496     \n",
      "                                                                 \n",
      " max_pooling2d_1 (MaxPoolin  (None, 54, 54, 64)        0         \n",
      " g2D)                                                            \n",
      "                                                                 \n",
      " dropout_1 (Dropout)         (None, 54, 54, 64)        0         \n",
      "                                                                 \n",
      " conv2d_2 (Conv2D)           (None, 52, 52, 128)       73856     \n",
      "                                                                 \n",
      " max_pooling2d_2 (MaxPoolin  (None, 26, 26, 128)       0         \n",
      " g2D)                                                            \n",
      "                                                                 \n",
      " dropout_2 (Dropout)         (None, 26, 26, 128)       0         \n",
      "                                                                 \n",
      " flatten (Flatten)           (None, 86528)             0         \n",
      "                                                                 \n",
      " dense (Dense)               (None, 512)               44302848  \n",
      "                                                                 \n",
      " dropout_3 (Dropout)         (None, 512)               0         \n",
      "                                                                 \n",
      " dense_1 (Dense)             (None, 2)                 1026      \n",
      "                                                                 \n",
      "=================================================================\n",
      "Total params: 44397122 (169.36 MB)\n",
      "Trainable params: 44397122 (169.36 MB)\n",
      "Non-trainable params: 0 (0.00 Byte)\n",
      "_________________________________________________________________\n"
     ]
    }
   ],
   "source": [
    "loaded_model.summary()"
   ]
  },
  {
   "cell_type": "code",
   "execution_count": 15,
   "id": "5c81d463",
   "metadata": {},
   "outputs": [
    {
     "name": "stdout",
     "output_type": "stream",
     "text": [
      "1/1 [==============================] - 0s 224ms/step\n",
      "The image is predicted as: Car\n"
     ]
    },
    {
     "data": {
      "image/png": "[encoded data removed]",
      "text/plain": [
       "<Figure size 640x480 with 1 Axes>"
      ]
     },
     "metadata": {},
     "output_type": "display_data"
    }
   ],
   "source": [
    "import cv2\n",
    "import numpy as np\n",
    "import matplotlib.pyplot as plt\n",
    "\n",
    "def preprocess_image(img_path):\n",
    "    # Load the image\n",
    "    img = cv2.imread(img_path)\n",
    "    \n",
    "    # Check if the image was successfully loaded\n",
    "    if img is None:\n",
    "        raise FileNotFoundError(f\"Image at path '{img_path}' not found.\")\n",
    "    \n",
    "    # Resize the image\n",
    "    img = cv2.resize(img, (224, 224))\n",
    "    \n",
    "    # Normalize the image\n",
    "    img = np.expand_dims(img, axis=0) / 255.0\n",
    "    \n",
    "    return img\n",
    "\n",
    "def predict_vehicle(model, img_path):\n",
    "    # Preprocess the image\n",
    "    img = preprocess_image(img_path)\n",
    "    \n",
    "    # Make prediction\n",
    "    prediction = model.predict(img)\n",
    "    \n",
    "    # Return result\n",
    "    return 'Car' if np.argmax(prediction) == 1 else 'Non-car'\n",
    "\n",
    "# Test on a new image\n",
    "test_img_path = os.path.join(vehicle_folder, '10.png')  # Corrected test image path\n",
    "result = predict_vehicle(loaded_model, test_img_path)\n",
    "print(f'The image is predicted as: {result}')\n",
    "\n",
    "# Display the test image with prediction\n",
    "img = cv2.imread(test_img_path)\n",
    "if img is not None:\n",
    "    plt.imshow(cv2.cvtColor(img, cv2.COLOR_BGR2RGB))\n",
    "    plt.title(result)\n",
    "    plt.show()\n",
    "else:\n",
    "    print(f\"Image at path '{test_img_path}' not found, so it cannot be displayed.\")"
   ]
  },
  {
   "cell_type": "code",
   "execution_count": null,
   "id": "dd8c3d06",
   "metadata": {},
   "outputs": [],
   "source": []
  }
 ],
 "metadata": {
  "kernelspec": {
   "display_name": "conda_tensorflow2_p310",
   "language": "python",
   "name": "conda_tensorflow2_p310"
  },
  "language_info": {
   "codemirror_mode": {
    "name": "ipython",
    "version": 3
   },
   "file_extension": ".py",
   "mimetype": "text/x-python",
   "name": "python",
   "nbconvert_exporter": "python",
   "pygments_lexer": "ipython3",
   "version": "3.10.14"
  }
 },
 "nbformat": 4,
 "nbformat_minor": 5
}
