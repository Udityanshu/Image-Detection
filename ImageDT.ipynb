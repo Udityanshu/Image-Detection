{
 "cells": [
  {
   "cell_type": "markdown",
   "metadata": {},
   "source": [
    "### Import Libraries"
   ]
  },
  {
   "cell_type": "code",
   "execution_count": 10,
   "metadata": {},
   "outputs": [],
   "source": [
    "import numpy as np\n",
    "import pandas as pd\n",
    "import os\n",
    "import matplotlib.pyplot as plt\n",
    "import cv2\n",
    "from tqdm import tqdm\n",
    "from sklearn.model_selection import train_test_split\n",
    "from tensorflow.keras.models import Sequential\n",
    "from tensorflow.keras.layers import Dense, Conv2D, MaxPooling2D, Flatten, Dropout\n",
    "from tensorflow.keras.preprocessing.image import ImageDataGenerator\n",
    "from tensorflow.keras.utils import to_categorical"
   ]
  },
  {
   "cell_type": "markdown",
   "metadata": {},
   "source": [
    "### Loading and Preprocessing data"
   ]
  },
  {
   "cell_type": "code",
   "execution_count": 15,
   "metadata": {},
   "outputs": [
    {
     "name": "stdout",
     "output_type": "stream",
     "text": [
      "Images shape: (17760, 224, 224, 3)\n",
      "Labels: [1 1 1 ... 0 0 0]\n"
     ]
    }
   ],
   "source": [
    "# Define the paths to the dataset folders\n",
    "data_path = r'C:\\Users\\ugoyal\\Documents\\Image-Detection\\data'\n",
    "non_vehicle_folder = os.path.join(data_path, 'non-vehicles')\n",
    "vehicle_folder = os.path.join(data_path, 'vehicles')\n",
    "\n",
    "# Initialize lists to hold image data and labels\n",
    "images = []\n",
    "labels = []\n",
    "\n",
    "# Counters for labeling\n",
    "car_count = 0\n",
    "non_car_count = 0\n",
    "\n",
    "# Helper function to process images from a given folder\n",
    "def process_images_from_folder(folder_path, is_vehicle):\n",
    "    global car_count, non_car_count\n",
    "    for img_name in os.listdir(folder_path):\n",
    "        img_path = os.path.join(folder_path, img_name)\n",
    "        img = cv2.imread(img_path)\n",
    "        if img is None:\n",
    "            continue  # Skip if the image couldn't be read\n",
    "        \n",
    "        # Resize image to 224x224 pixels\n",
    "        img = cv2.resize(img, (224, 224))\n",
    "        images.append(img)\n",
    "        \n",
    "        # Assign labels based on whether it's a vehicle or non-vehicle\n",
    "        if is_vehicle:\n",
    "            label = 1  # Label for car\n",
    "            car_count += 1\n",
    "        else:\n",
    "            label = 0  # Label for non-car\n",
    "            non_car_count += 1\n",
    "        \n",
    "        labels.append(label)\n",
    "\n",
    "# Process images from both folders\n",
    "process_images_from_folder(vehicle_folder, is_vehicle=True)\n",
    "process_images_from_folder(non_vehicle_folder, is_vehicle=False)\n",
    "\n",
    "# Convert lists to numpy arrays\n",
    "images = np.array(images)\n",
    "labels = np.array(labels)\n",
    "\n",
    "print(\"Images shape:\", images.shape)\n",
    "print(\"Labels:\", labels)\n"
   ]
  },
  {
   "cell_type": "markdown",
   "metadata": {},
   "source": [
    "### Normalizing and Splitting data"
   ]
  },
  {
   "cell_type": "code",
   "execution_count": 16,
   "metadata": {},
   "outputs": [],
   "source": [
    "# Normalize the images\n",
    "images = images / 255.0\n",
    "\n",
    "# Convert labels to categorical\n",
    "labels = to_categorical(labels, num_classes=2)\n",
    "\n",
    "# Split the dataset into training and testing sets\n",
    "X_train, X_test, y_train, y_test = train_test_split(images, labels, test_size=0.2, random_state=42)"
   ]
  },
  {
   "cell_type": "markdown",
   "metadata": {},
   "source": [
    "### Building the Model"
   ]
  },
  {
   "cell_type": "code",
   "execution_count": null,
   "metadata": {},
   "outputs": [],
   "source": []
  }
 ],
 "metadata": {
  "kernelspec": {
   "display_name": "Python 3 (ipykernel)",
   "language": "python",
   "name": "python3"
  },
  "language_info": {
   "codemirror_mode": {
    "name": "ipython",
    "version": 3
   },
   "file_extension": ".py",
   "mimetype": "text/x-python",
   "name": "python",
   "nbconvert_exporter": "python",
   "pygments_lexer": "ipython3",
   "version": "3.10.9"
  }
 },
 "nbformat": 4,
 "nbformat_minor": 2
}
